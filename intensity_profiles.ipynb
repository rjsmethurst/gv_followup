{
 "cells": [
  {
   "cell_type": "code",
   "execution_count": 1,
   "metadata": {
    "collapsed": true
   },
   "outputs": [],
   "source": [
    "%matplotlib inline\n",
    "import numpy as N\n",
    "import matplotlib.pyplot as P\n",
    "import time\n",
    "import os\n",
    "import matplotlib.cm as cm\n",
    "from prefig import *\n",
    "from scipy.stats import kde\n",
    "import matplotlib.colors as mcolors\n",
    "from scipy.stats import mode\n",
    "from scipy.interpolate import interp2d"
   ]
  },
  {
   "cell_type": "code",
   "execution_count": 2,
   "metadata": {
    "collapsed": true
   },
   "outputs": [],
   "source": [
    "font = {'family':'serif', 'size':16}\n",
    "P.rc('font', **font)\n",
    "P.rc('xtick', labelsize='medium')\n",
    "P.rc('ytick', labelsize='medium')\n",
    "P.rc('axes', labelsize='medium')"
   ]
  },
  {
   "cell_type": "code",
   "execution_count": 3,
   "metadata": {
    "collapsed": true
   },
   "outputs": [],
   "source": [
    "def Ir(Ie, bn, Re, n):\n",
    "    return Ie*np.exp(-bn*((R/Re)**(1/float(n))-1))"
   ]
  },
  {
   "cell_type": "code",
   "execution_count": 4,
   "metadata": {
    "collapsed": true
   },
   "outputs": [],
   "source": [
    "def psf(Io, x, u, sig):\n",
    "    return Io*np.exp(-0.5*((x-u)/(sig*(2**(0.5))))**2)"
   ]
  },
  {
   "cell_type": "code",
   "execution_count": 5,
   "metadata": {
    "collapsed": true
   },
   "outputs": [],
   "source": [
    "def bn(n):\n",
    "    if n > 0.36:\n",
    "        return 2*n - (1/3.0) + (4/(405.0*n)) + (46/(25515.0*n*n)) + (131/(1148175.0*n*n*n))\n",
    "    else:\n",
    "        return 0.01945 - 0.8902*n + 10.95*n*n - 19.67*n*n*n + 13.43*n*n*n*n"
   ]
  },
  {
   "cell_type": "code",
   "execution_count": 19,
   "metadata": {
    "collapsed": true
   },
   "outputs": [],
   "source": [
    "ps = 0.396 #plate scale in arcsec/pix"
   ]
  },
  {
   "cell_type": "code",
   "execution_count": 10,
   "metadata": {
    "collapsed": true
   },
   "outputs": [],
   "source": [
    "R = np.linspace(0, 10, 100)"
   ]
  },
  {
   "cell_type": "code",
   "execution_count": 290,
   "metadata": {
    "collapsed": false
   },
   "outputs": [],
   "source": [
    "#define first sersic profile fit\n",
    "s1 = Ir(4.0, bn(0.0526), 12.09*ps, 0.0526)\n",
    "#define second sersic profile fit\n",
    "s2 =Ir(1.0, bn(7.2114), 2.909*ps, 7.2114)\n",
    "#define psf part of fit\n",
    "p1 = psf(10.0, R, 0, 1.14*ps)"
   ]
  },
  {
   "cell_type": "code",
   "execution_count": 302,
   "metadata": {
    "collapsed": false
   },
   "outputs": [
    {
     "data": {
      "text/plain": [
       "[<matplotlib.lines.Line2D at 0x10e95f050>]"
      ]
     },
     "execution_count": 302,
     "metadata": {},
     "output_type": "execute_result"
    },
    {
     "data": {
      "image/png": "[encoded data removed]",
      "text/plain": [
       "<matplotlib.figure.Figure at 0x10da1f350>"
      ]
     },
     "metadata": {},
     "output_type": "display_data"
    }
   ],
   "source": [
    "P.plot(R, p1)"
   ]
  },
  {
   "cell_type": "code",
   "execution_count": 291,
   "metadata": {
    "collapsed": false
   },
   "outputs": [],
   "source": [
    "from scipy.integrate import cumtrapz as ctp"
   ]
  },
  {
   "cell_type": "code",
   "execution_count": 292,
   "metadata": {
    "collapsed": false
   },
   "outputs": [
    {
     "name": "stdout",
     "output_type": "stream",
     "text": [
      "0.0264831721946\n",
      "0.019009469816\n",
      "0.0486373611888\n"
     ]
    }
   ],
   "source": [
    "tfs1 = 10**((22.5 - 25.69)/2.5) \n",
    "print tfs1/2\n",
    "tfs2 = 10**((22.5 - 26.05)/2.5) \n",
    "print tfs2/2\n",
    "tfp1 = 10**((22.5 - 25.03)/2.5) \n",
    "print tfp1/2"
   ]
  },
  {
   "cell_type": "code",
   "execution_count": 293,
   "metadata": {
    "collapsed": false
   },
   "outputs": [
    {
     "name": "stdout",
     "output_type": "stream",
     "text": [
      "29.4748244614\n",
      "66527.5809127\n",
      "8.00156566453\n"
     ]
    }
   ],
   "source": [
    "ints1 = ctp(s1, R)\n",
    "print ints1[-1]\n",
    "ints2 = ctp(s2, R)\n",
    "print ints2[-1]\n",
    "intp1 = ctp(p1, R)\n",
    "print intp1[-1]"
   ]
  },
  {
   "cell_type": "code",
   "execution_count": 294,
   "metadata": {
    "collapsed": true
   },
   "outputs": [],
   "source": [
    "fs1 = np.diff(ints1)\n",
    "fs2 = np.diff(ints2)\n",
    "fp1 = np.diff(intp1)"
   ]
  },
  {
   "cell_type": "code",
   "execution_count": 295,
   "metadata": {
    "collapsed": false
   },
   "outputs": [
    {
     "data": {
      "text/plain": [
       "[<matplotlib.lines.Line2D at 0x10e52d8d0>]"
      ]
     },
     "execution_count": 295,
     "metadata": {},
     "output_type": "execute_result"
    },
    {
     "data": {
      "image/png": "[encoded data removed]",
      "text/plain": [
       "<matplotlib.figure.Figure at 0x10e5c1e90>"
      ]
     },
     "metadata": {},
     "output_type": "display_data"
    }
   ],
   "source": [
    "P.plot(R, s1)\n",
    "P.plot(R, s2)\n",
    "P.plot(R, p1)"
   ]
  },
  {
   "cell_type": "code",
   "execution_count": 296,
   "metadata": {
    "collapsed": false
   },
   "outputs": [
    {
     "data": {
      "text/plain": [
       "(0, 10)"
      ]
     },
     "execution_count": 296,
     "metadata": {},
     "output_type": "execute_result"
    },
    {
     "data": {
      "image/png": "[encoded data removed]",
      "text/plain": [
       "<matplotlib.figure.Figure at 0x10e474310>"
      ]
     },
     "metadata": {},
     "output_type": "display_data"
    }
   ],
   "source": [
    "P.figure(figsize=(15,3))\n",
    "P.plot(R, s1+s2+p1, color='k')\n",
    "P.xlim(0, 10)"
   ]
  },
  {
   "cell_type": "code",
   "execution_count": 297,
   "metadata": {
    "collapsed": false
   },
   "outputs": [
    {
     "data": {
      "text/plain": [
       "[<matplotlib.lines.Line2D at 0x10da289d0>]"
      ]
     },
     "execution_count": 297,
     "metadata": {},
     "output_type": "execute_result"
    },
    {
     "data": {
      "image/png": "[encoded data removed]",
      "text/plain": [
       "<matplotlib.figure.Figure at 0x10d579410>"
      ]
     },
     "metadata": {},
     "output_type": "display_data"
    }
   ],
   "source": [
    "P.plot(R[:-2], fs1)\n",
    "P.plot(R[:-2], fs2)\n",
    "P.plot(R[:-2], fp1)"
   ]
  },
  {
   "cell_type": "code",
   "execution_count": 298,
   "metadata": {
    "collapsed": false
   },
   "outputs": [
    {
     "data": {
      "text/plain": [
       "<matplotlib.text.Text at 0x10db0fa10>"
      ]
     },
     "execution_count": 298,
     "metadata": {},
     "output_type": "execute_result"
    },
    {
     "data": {
      "image/png": "[encoded data removed]",
      "text/plain": [
       "<matplotlib.figure.Figure at 0x10dc66150>"
      ]
     },
     "metadata": {},
     "output_type": "display_data"
    }
   ],
   "source": [
    "P.plot(R[:-2], fs1+fs2+fp1, color='k')\n",
    "P.axvline(1.0, color='r', linestyle='dotted')\n",
    "P.axvline(3.5, color='r', linestyle='dotted')\n",
    "P.xlabel(r'$R$ $[arcsec]$')\n",
    "P.ylabel(r'$f$ $\\rm{[nanomaggies]}$')"
   ]
  },
  {
   "cell_type": "code",
   "execution_count": 299,
   "metadata": {
    "collapsed": false
   },
   "outputs": [],
   "source": [
    "flux = fs1+fs2+fp1\n",
    "total_flux = 2*np.sum(flux)\n",
    "i1 = np.searchsorted(R, 1)\n",
    "i7 = np.searchsorted(R, 3.5)\n",
    "flux_1asc = 2*np.sum(flux[:i1])\n",
    "flux_7asc = 2*np.sum(flux[:i7])\n",
    "flux_gal_1asc = total_flux-flux_1asc\n",
    "flux_gal_7asc = total_flux-flux_7asc"
   ]
  },
  {
   "cell_type": "code",
   "execution_count": 300,
   "metadata": {
    "collapsed": false
   },
   "outputs": [
    {
     "name": "stdout",
     "output_type": "stream",
     "text": [
      "90.712739131\n",
      "37.3619987091\n",
      "53.3507404219\n",
      "60.5123445894\n",
      "30.2003945417\n"
     ]
    }
   ],
   "source": [
    "print total_flux\n",
    "print flux_1asc\n",
    "print flux_gal_1asc\n",
    "print flux_7asc\n",
    "print flux_gal_7asc\n"
   ]
  },
  {
   "cell_type": "code",
   "execution_count": 301,
   "metadata": {
    "collapsed": false,
    "scrolled": true
   },
   "outputs": [
    {
     "name": "stdout",
     "output_type": "stream",
     "text": [
      "17.6058292976\n",
      "18.5689247472\n",
      "18.1821488722\n",
      "18.7999684583\n"
     ]
    }
   ],
   "source": [
    "total_mag = 22.5 - 2.5*np.log10(total_flux)\n",
    "psf_mag = 22.5 - 2.5*np.log10(flux_1asc)\n",
    "print total_mag\n",
    "print psf_mag\n",
    "gal_1asc_mag = 22.5 - 2.5*np.log10(flux_gal_1asc)\n",
    "print gal_1asc_mag\n",
    "gal_7asc_mag = 22.5 - 2.5*np.log10(flux_gal_7asc)\n",
    "print gal_7asc_mag"
   ]
  },
  {
   "cell_type": "code",
   "execution_count": 233,
   "metadata": {
    "collapsed": false
   },
   "outputs": [
    {
     "name": "stdout",
     "output_type": "stream",
     "text": [
      "26.2524706337\n"
     ]
    }
   ],
   "source": [
    "mf = flux_7asc - flux_1asc\n",
    "print mf"
   ]
  },
  {
   "cell_type": "code",
   "execution_count": 253,
   "metadata": {
    "collapsed": true
   },
   "outputs": [],
   "source": [
    "mag = 22.5 - 2.5*np.log10(np.cumsum(flux))"
   ]
  },
  {
   "cell_type": "code",
   "execution_count": 255,
   "metadata": {
    "collapsed": false
   },
   "outputs": [
    {
     "data": {
      "text/plain": [
       "<matplotlib.lines.Line2D at 0x10d593e50>"
      ]
     },
     "execution_count": 255,
     "metadata": {},
     "output_type": "execute_result"
    },
    {
     "data": {
      "image/png": "[encoded data removed]",
      "text/plain": [
       "<matplotlib.figure.Figure at 0x10d6a3cd0>"
      ]
     },
     "metadata": {},
     "output_type": "display_data"
    }
   ],
   "source": [
    "P.plot(R[:-2], mag, color='k')\n",
    "P.axvline(1.0, color='r', linestyle='dotted')\n",
    "P.axvline(3.5, color='r', linestyle='dotted')"
   ]
  },
  {
   "cell_type": "code",
   "execution_count": 246,
   "metadata": {
    "collapsed": false
   },
   "outputs": [],
   "source": [
    "r = ctp(mag, R[:-2])"
   ]
  },
  {
   "cell_type": "code",
   "execution_count": 247,
   "metadata": {
    "collapsed": false
   },
   "outputs": [
    {
     "data": {
      "text/plain": [
       "array([   2.24980693,    4.50406864,    6.76384148,    9.03025741,\n",
       "         11.3042729 ,   13.58658437,   15.87757788,   18.17730205,\n",
       "         20.48546788,   22.80148004,   25.12449934,   27.45352904,\n",
       "         29.78751113,   32.12541595,   34.46631141,   36.80940503,\n",
       "         39.15405916,   41.49978523,   43.84622504,   46.19312617,\n",
       "         48.54031716,   50.88768545,   53.23515945,   55.58269502,\n",
       "         57.9302657 ,   60.27785609,   62.62545743,   64.97306489,\n",
       "         67.32067585,   69.66828892,   72.01590334,   74.36351874,\n",
       "         76.71113489,   79.05875169,   81.40636907,   83.753987  ,\n",
       "         86.10160548,   88.44922453,   90.79684423,   93.14446471,\n",
       "         95.49208619,   97.839709  ,  100.18733367,  102.53496098,\n",
       "        104.88259208,  107.23022864,  109.5778731 ,  111.92552892,\n",
       "        114.27320103,  116.62089638,  118.96862469,  121.31639947,\n",
       "        123.66423937,  126.01217002,  128.36022638,  130.70845593,\n",
       "        133.05692272,  135.40571281,  137.75494117,  140.10476065,\n",
       "        142.45537355,  144.80704634,  147.16012847,  149.51507621,\n",
       "        151.87248274,  154.2331161 ,  156.59796658,  158.96830595,\n",
       "        161.34576093,  163.73240403,  166.13086519,  168.54446839,\n",
       "        170.97739784,  173.43489871,  175.92351829,  178.45139343,\n",
       "        181.02859082,  183.66750727,  186.38333829,  189.1946226 ,\n",
       "        192.12384993,  195.19793573,  198.44676367,  201.88565713,\n",
       "        205.46325166,  209.09081202,  212.72649488,  216.36558522,\n",
       "        220.00786542,  223.65330179,  227.30186456,  230.95352459,\n",
       "        234.60825332,  238.26602275,  241.92680544,  245.59057445,\n",
       "        249.25730338])"
      ]
     },
     "execution_count": 247,
     "metadata": {},
     "output_type": "execute_result"
    }
   ],
   "source": [
    "r"
   ]
  },
  {
   "cell_type": "code",
   "execution_count": null,
   "metadata": {
    "collapsed": true
   },
   "outputs": [],
   "source": []
  }
 ],
 "metadata": {
  "kernelspec": {
   "display_name": "Python 2",
   "language": "python",
   "name": "python2"
  },
  "language_info": {
   "codemirror_mode": {
    "name": "ipython",
    "version": 2
   },
   "file_extension": ".py",
   "mimetype": "text/x-python",
   "name": "python",
   "nbconvert_exporter": "python",
   "pygments_lexer": "ipython2",
   "version": "2.7.8"
  }
 },
 "nbformat": 4,
 "nbformat_minor": 0
}
