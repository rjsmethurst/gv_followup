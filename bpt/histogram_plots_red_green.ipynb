{
 "cells": [
  {
   "cell_type": "code",
   "execution_count": 3,
   "metadata": {
    "collapsed": true
   },
   "outputs": [],
   "source": [
    "%matplotlib inline\n",
    "import numpy as N\n",
    "import matplotlib.pyplot as P\n",
    "import time\n",
    "import os\n",
    "import matplotlib.cm as cm\n",
    "from prefig import *\n",
    "from scipy.stats import kde\n",
    "import matplotlib.colors as mcolors\n",
    "from scipy.stats import mode\n",
    "from scipy.interpolate import interp2d"
   ]
  },
  {
   "cell_type": "code",
   "execution_count": 4,
   "metadata": {
    "collapsed": false
   },
   "outputs": [],
   "source": [
    "font = {'family':'serif', 'size':16}\n",
    "P.rc('font', **font)\n",
    "P.rc('xtick', labelsize='medium')\n",
    "P.rc('ytick', labelsize='medium')\n",
    "P.rc('axes', labelsize='medium')\n",
    "\n",
    "\n",
    "X = N.linspace(0, 14, 100)\n",
    "Xs = X[:-1] + N.diff(X)\n",
    "Y = N.linspace(0, 4, 100)\n",
    "Ys = Y[:-1] + N.diff(Y)\n",
    "\n",
    "ti = N.arange(0, 0.01, 0.003)\n",
    "t = N.linspace(0,14.0,100)\n",
    "time = N.append(ti, t[1:])"
   ]
  },
  {
   "cell_type": "code",
   "execution_count": 39,
   "metadata": {
    "collapsed": false
   },
   "outputs": [],
   "source": [
    "sumd = N.load('/Users/becky/Projects/Green-Valley-Project/slb/sum_weight_log_disc_morph_red.npy')\n",
    "sums = N.load('/Users/becky/Projects/Green-Valley-Project/slb/sum_weight_log_smooth_morph_red.npy')\n",
    "\n",
    "# agnha = N.nan_to_num(N.log10(sumd))\n",
    "# nagnha = N.nan_to_num(N.log10(sums))\n",
    "\n",
    "# agnha[agnha < 0] = 0\n",
    "# nagnha[nagnha < 0] = 0\n",
    "\n",
    "# sumdha = agnha\n",
    "# sumsha = nagnha\n",
    "\n",
    "sumsha = (sums - N.min(sums))/(N.max(sums)-N.min(sums))\n",
    "sumdha = (sumd - N.min(sumd))/(N.max(sumd)-N.min(sumd))\n",
    "\n",
    "xs = N.sum(sumsha, axis=1)\n",
    "xsha = (xs-N.min(xs))/(N.max(xs)-N.min(xs))\n",
    "ys = N.sum(sumsha, axis=0)\n",
    "ysha = (ys-N.min(ys))/(N.max(ys)-N.min(ys))\n",
    "\n",
    "ysrha = (N.sum(ysha[N.where(Ys < 1.0)])/N.sum(ysha))*100\n",
    "ysiha =  (N.sum(ysha[N.where(N.logical_and(Ys > 1.0, Ys < 2.0))])/N.sum(ysha))*100\n",
    "yssha =  (N.sum(ysha[N.where(Ys > 2.0)])/N.sum(ysha))*100\n",
    "\n",
    "xd = N.sum(sumdha, axis=1)\n",
    "xdha = (xd-N.min(xd))/(N.max(xd)-N.min(xd))\n",
    "yd = N.sum(sumdha, axis=0)\n",
    "ydha = (yd-N.min(yd))/(N.max(yd)-N.min(yd))\n",
    "\n",
    "ydrha = (N.sum(ydha[N.where(Ys < 1.0)])/N.sum(ydha))*100\n",
    "ydiha =  (N.sum(ydha[N.where(N.logical_and(Ys > 1.0, Ys < 2.0))])/N.sum(ydha))*100\n",
    "ydsha =  (N.sum(ydha[N.where(Ys > 2.0)])/N.sum(ydha))*100"
   ]
  },
  {
   "cell_type": "code",
   "execution_count": 40,
   "metadata": {
    "collapsed": false
   },
   "outputs": [],
   "source": [
    "sumd = N.load('/Users/becky/Projects/Green-Valley-Project/slb/sum_weight_log_disc_morph_green.npy')\n",
    "sums = N.load('/Users/becky/Projects/Green-Valley-Project/slb/sum_weight_log_smooth_morph_green.npy')\n",
    "\n",
    "# agnma = N.nan_to_num(N.log10(sumd))\n",
    "# nagnma = N.nan_to_num(N.log10(sums))\n",
    "\n",
    "# agnma[agnma < 0] = 0\n",
    "# nagnma[nagnma < 0] = 0\n",
    "\n",
    "# sumdma = agnma\n",
    "# sumsma = nagnma\n",
    "\n",
    "sumsma = (sums - N.min(sums))/(N.max(sums)-N.min(sums))\n",
    "sumdma = (sumd - N.min(sumd))/(N.max(sumd)-N.min(sumd))\n",
    "\n",
    "xs = N.sum(sumsma, axis=1)\n",
    "xsma = (xs-N.min(xs))/(N.max(xs)-N.min(xs))\n",
    "ys = N.sum(sumsma, axis=0)\n",
    "ysma = (ys-N.min(ys))/(N.max(ys)-N.min(ys))\n",
    "\n",
    "ysrma = (N.sum(ysma[N.where(Ys < 1.0)])/N.sum(ysma))*100\n",
    "ysima =  (N.sum(ysma[N.where(N.logical_and(Ys > 1.0, Ys < 2.0))])/N.sum(ysma))*100\n",
    "yssma =  (N.sum(ysma[N.where(Ys > 2.0)])/N.sum(ysma))*100\n",
    "\n",
    "xd = N.sum(sumdma, axis=1)\n",
    "xdma = (xd-N.min(xd))/(N.max(xd)-N.min(xd))\n",
    "yd = N.sum(sumdma, axis=0)\n",
    "ydma = (yd-N.min(yd))/(N.max(yd)-N.min(yd))\n",
    "\n",
    "ydrma = (N.sum(ydma[N.where(Ys < 1.0)])/N.sum(ydma))*100\n",
    "ydima =  (N.sum(ydma[N.where(N.logical_and(Ys > 1.0, Ys < 2.0))])/N.sum(ydma))*100\n",
    "ydsma =  (N.sum(ydma[N.where(Ys > 2.0)])/N.sum(ydma))*100"
   ]
  },
  {
   "cell_type": "code",
   "execution_count": 41,
   "metadata": {
    "collapsed": false
   },
   "outputs": [
    {
     "name": "stderr",
     "output_type": "stream",
     "text": [
      "/usr/local/lib/python2.7/site-packages/IPython/kernel/__main__.py:4: RuntimeWarning: divide by zero encountered in log10\n",
      "/usr/local/lib/python2.7/site-packages/IPython/kernel/__main__.py:4: RuntimeWarning: invalid value encountered in log10\n",
      "/usr/local/lib/python2.7/site-packages/IPython/kernel/__main__.py:5: RuntimeWarning: divide by zero encountered in log10\n",
      "/usr/local/lib/python2.7/site-packages/IPython/kernel/__main__.py:5: RuntimeWarning: invalid value encountered in log10\n"
     ]
    }
   ],
   "source": [
    "sumd = N.load('/Users/becky/Projects/Green-Valley-Project/slb/sum_weight_log_disc_morph_blue.npy')\n",
    "sums = N.load('/Users/becky/Projects/Green-Valley-Project/slb/sum_weight_log_smooth_morph_blue.npy')\n",
    "\n",
    "agnla = N.nan_to_num(N.log10(sumd))\n",
    "nagnla = N.nan_to_num(N.log10(sums))\n",
    "\n",
    "agnla[agnla < 0] = 0\n",
    "nagnla[nagnla < 0] = 0\n",
    "\n",
    "sumdla = agnla\n",
    "sumsla = nagnla\n",
    "\n",
    "xs = N.sum(sumsla, axis=1)\n",
    "xsla = (xs-N.min(xs))/(N.max(xs)-N.min(xs))\n",
    "ys = N.sum(sumsla, axis=0)\n",
    "ysla = (ys-N.min(ys))/(N.max(ys)-N.min(ys))\n",
    "\n",
    "ysrla = (N.sum(ysla[N.where(Ys < 1.0)])/N.sum(ysla))*100\n",
    "ysila =  (N.sum(ysla[N.where(N.logical_and(Ys > 1.0, Ys < 2.0))])/N.sum(ysla))*100\n",
    "yssla =  (N.sum(ysla[N.where(Ys > 2.0)])/N.sum(ysla))*100\n",
    "\n",
    "xd = N.sum(sumdla, axis=1)\n",
    "xdla = (xd-N.min(xd))/(N.max(xd)-N.min(xd))\n",
    "yd = N.sum(sumdla, axis=0)\n",
    "ydla = (yd-N.min(yd))/(N.max(yd)-N.min(yd))\n",
    "\n",
    "ydrla = (N.sum(ydla[N.where(Ys < 1.0)])/N.sum(ydla))*100\n",
    "ydila =  (N.sum(ydla[N.where(N.logical_and(Ys > 1.0, Ys < 2.0))])/N.sum(ydla))*100\n",
    "ydsla =  (N.sum(ydla[N.where(Ys > 2.0)])/N.sum(ydla))*100"
   ]
  },
  {
   "cell_type": "code",
   "execution_count": 61,
   "metadata": {
    "collapsed": false
   },
   "outputs": [
    {
     "data": {
      "image/png": "[encoded data removed]",
      "text/plain": [
       "<matplotlib.figure.Figure at 0x10d3341d0>"
      ]
     },
     "metadata": {},
     "output_type": "display_data"
    }
   ],
   "source": [
    "from mpl_toolkits.axes_grid1 import ImageGrid\n",
    "F = P.figure(figsize=(6.875,7.5))\n",
    "# ax1 = P.subplot2grid((3,1), (0,0))\n",
    "# ax1.hist(Xs, weights = xsla, bins=Xs, histtype='step', color='r')\n",
    "# ax1.hist(Xs, weights = xdla, bins=Xs, histtype='step', color='b')\n",
    "# ax1.set_xlim(0.1, 13.8)\n",
    "# ax1.text(1.2, 0.9, 'Blue')\n",
    "# ax1.text(1.2, 0.8, 'Disc', color='b')\n",
    "# ax1.text(1.2, 0.7, 'Smooth', color='r')\n",
    "# ax1.tick_params('x', labelbottom='off')\n",
    "# ax1.set_ylim(0, 1.1)\n",
    "ax2 = P.subplot2grid((2,1), (0,0))\n",
    "#ax2.hist(Xs, weights = xsma, bins=Xs, histtype='step', color='r')\n",
    "ax2.hist(Xs, weights = xdma, bins=Xs, histtype='step', color='b')\n",
    "ax2.set_xlim(0.1, 13.8)\n",
    "# ax2.text(1.2, 0.9, 'Green')\n",
    "# ax2.text(1.2, 0.8, 'Disc', color='b')\n",
    "# ax2.text(1.2, 0.7, 'Smooth', color='r')\n",
    "ax2.tick_params('x', labelbottom='off')\n",
    "ax2.set_ylim(0, 1.1)\n",
    "ax2.set_ylabel(r'$\\rm{likelihood}$')\n",
    "ax3 = P.subplot2grid((2,1), (1,0))\n",
    "#ax3.hist(Xs, weights = xsha, bins=Xs, histtype='step', color='r')\n",
    "ax3.hist(Xs, weights = xdha, bins=Xs, histtype='step', color='b')\n",
    "ax3.set_xlim(0.1, 13.8)\n",
    "ax3.set_ylim(0, 1.1)\n",
    "# ax3.text(1.2, 0.9, 'Red')\n",
    "# ax3.text(1.2, 0.8, 'Disc', color='b')\n",
    "# ax3.text(1.2, 0.7, 'Smooth', color='r')\n",
    "ax3.set_xlabel('$t_q$ [Gyr]')\n",
    "ax3.set_ylabel(r'$\\rm{likelihood}$')\n",
    "P.tight_layout()\n",
    "P.subplots_adjust(wspace=0.0, hspace=0.0)\n",
    "P.savefig('quenching_time_histograms_red_green_blue_disc.png', facecolor='None', edgecolor='None')"
   ]
  },
  {
   "cell_type": "code",
   "execution_count": 62,
   "metadata": {
    "collapsed": false
   },
   "outputs": [
    {
     "data": {
      "image/png": "[encoded data removed]",
      "text/plain": [
       "<matplotlib.figure.Figure at 0x10d67e990>"
      ]
     },
     "metadata": {},
     "output_type": "display_data"
    }
   ],
   "source": [
    "from mpl_toolkits.axes_grid1 import ImageGrid\n",
    "F = P.figure(figsize=(6.875,7.5))\n",
    "ax2 = P.subplot2grid((2,1), (0,0))\n",
    "#ax2.hist(Ys, weights = ysma, bins=Ys, histtype='step', color='r')\n",
    "ax2.hist(Ys, weights = ydma, bins=Ys, histtype='step', color='b')\n",
    "ax2.set_xlim(0.2, 4.0)\n",
    "ax2.set_ylim(0, 1.1)\n",
    "ax2.tick_params('x', labelbottom='off')\n",
    "#ax2.set_ylabel('normalised 1D likelihood distribution')\n",
    "ax2.axvline(x=1.0, linestyle='dashed', color='k', alpha=0.5)\n",
    "ax2.axvline(x=2.0, linestyle='dashed', color='k', alpha=0.5)\n",
    "ax2.set_ylabel(r'$\\rm{likelihood}$')\n",
    "# ax2.text(0.35, 0.2, '%3.1f' % ydrma+'%', color='b')\n",
    "# ax2.text(1.35, 0.2, '%3.1f' % ydima+'%', color='b')\n",
    "# ax2.text(2.35, 0.2, '%3.1f' % ydsma+'%', color='b')\n",
    "# ax2.text(0.35, 0.1, '%3.1f' % ysrma+'%', color='r')\n",
    "# ax2.text(1.35, 0.1, '%3.1f' % ysima+'%', color='r')\n",
    "# ax2.text(2.35, 0.1, '%3.1f' % yssma+'%', color='r')\n",
    "ax3 = P.subplot2grid((2,1), (1,0))\n",
    "ax3.set_xlim(0.2, 4.0)\n",
    "ax3.set_ylim(0, 1.1)\n",
    "ax3.axvline(x=1.0, linestyle='dashed', color='k', alpha=0.5)\n",
    "ax3.axvline(x=2.0, linestyle='dashed', color='k', alpha=0.5)\n",
    "# ax3.text(0.35, 0.2, '%3.1f' % ydrha+'%', color='b')\n",
    "# ax3.text(1.35, 0.2, '%3.1f' % ydiha+'%', color='b')\n",
    "# ax3.text(2.35, 0.2, '%3.1f' % ydsha+'%', color='b')\n",
    "# ax3.text(0.35, 0.1, '%3.1f' % ysrha+'%', color='r')\n",
    "# ax3.text(1.35, 0.1, '%3.1f' % ysiha+'%', color='r')\n",
    "# ax3.text(2.35, 0.1, '%3.1f' % yssha+'%', color='r')\n",
    "#ax3.hist(Ys, weights = ysha, bins=Ys, histtype='step', color='r')\n",
    "ax3.hist(Ys, weights = ydha, bins=Ys, histtype='step', color='b')\n",
    "ax3.set_xlabel(r'$\\tau $ [Gyr]')\n",
    "ax3.set_ylabel(r'$\\rm{likelihood}$')\n",
    "P.tight_layout()\n",
    "P.subplots_adjust(wspace=0.00, hspace=0.0)\n",
    "P.savefig('quenching_rate_histograms_red_green_blue_disc.png', facecolor='None', edgecolor='None')"
   ]
  },
  {
   "cell_type": "code",
   "execution_count": 65,
   "metadata": {
    "collapsed": false
   },
   "outputs": [
    {
     "data": {
      "image/png": "[encoded data removed]",
      "text/plain": [
       "<matplotlib.figure.Figure at 0x10d129790>"
      ]
     },
     "metadata": {},
     "output_type": "display_data"
    }
   ],
   "source": [
    "F = P.figure(figsize=(10,3.5))\n",
    "ax5 = P.subplot2grid((1,2), (0,0))\n",
    "ax5.hist(Ys, weights = ydha, bins=Ys, histtype='step', color='b')\n",
    "#ax5.hist(Ys, weights = ydla, bins=Ys, histtype='step', color='b')\n",
    "ax5.set_xlim(0.1, 4.0)\n",
    "ax5.set_ylim(0, 1.1)\n",
    "#ax5.text(1.2, 0.25, 'Medium Mass Inactive Galaxies')\n",
    "#ax5.text(1.2, 0.15, 'Disc', color='b')\n",
    "#ax5.text(1.2, 0.05, 'Smooth', color='r')\n",
    "#ax5.tick_params('both', labelbottom='off', labelleft='off')\n",
    "ax5.set_ylabel(r'$\\rm{likelihood}$')\n",
    "ax5.set_xlabel(r'$\\tau \\rm{[Gyr]}$')\n",
    "ax6 = P.subplot2grid((1,2), (0,1))\n",
    "ax6.hist(Ys, weights = ysli, bins=Ys, histtype='step', color='r')\n",
    "ax6.hist(Ys, weights = ydli, bins=Ys, histtype='step', color='b')\n",
    "ax6.set_xlim(0.1, 4.0)\n",
    "ax6.set_ylim(0, 1.1)\n",
    "#ax6.text(1.2, 0.25, 'High Mass Inactive Galaxies')\n",
    "#ax6.text(1.2, 0.15, 'Disc', color='b')\n",
    "#ax6.text(1.2, 0.05, 'Smooth', color='r')\n",
    "ax6.set_xlabel(r'$\\tau \\rm{[Gyr]}$')\n",
    "ax6.tick_params('y', labelleft='off')\n",
    "P.tight_layout()\n",
    "P.subplots_adjust(left =0.1, wspace=0.0, hspace=0.0)\n",
    "P.savefig('quenching_rate_histograms_lowmass_disc_and_smooth_type2_agn.png', facecolor=\"None\", edgecolor=\"None\")"
   ]
  },
  {
   "cell_type": "code",
   "execution_count": 14,
   "metadata": {
    "collapsed": false
   },
   "outputs": [
    {
     "name": "stdout",
     "output_type": "stream",
     "text": [
      "(0.40404040404040409, 1.0206950980453366e-07)\n",
      "D low 0.354340346013 0.395002352932 0.42985550172 0.473421937705 0.502466228362 0.566363667807\n",
      "(0.44444444444444448, 3.0029485820390301e-09)\n",
      "D med 0.299905111136 0.334320451758 0.363819315148 0.400692894386 0.425275280545 0.479356530094\n",
      "(0.29292929292929293, 0.00029383402178066861)\n",
      "D high 0.228575104371 0.254805034381 0.277287831532 0.305391327971 0.324126992264 0.365345453708\n",
      "(0.34343434343434343, 1.077613949938017e-05)\n",
      "D low 0.339898103236 0.378902803608 0.412335403926 0.454126154324 0.481986654589 0.543279755173\n",
      "(0.25252525252525249, 0.002834915795451988)\n",
      "D med 0.242731556619 0.270585997543 0.29446123262 0.324305276467 0.344201305698 0.387972570006\n",
      "(0.27272727272727276, 0.00095181261628435473)\n",
      "D high 0.228648241685 0.254886564501 0.277376555486 0.305489044218 0.324230703373 0.365462353512\n"
     ]
    }
   ],
   "source": [
    "print ks_2samp(ysla, ysli)\n",
    "D = ((N.sum(ysla) + N.sum(ysli))/(N.sum(ysla)*N.sum(ysli)))**0.5\n",
    "print 'D low', 1.22*D, 1.36*D, 1.48*D, 1.63*D, 1.73*D, 1.95*D\n",
    "print ks_2samp(ysma, ysmi)\n",
    "D = ((N.sum(ysma) + N.sum(ysmi))/(N.sum(ysma)*N.sum(ysmi)))**0.5\n",
    "print 'D med', 1.22*D, 1.36*D, 1.48*D, 1.63*D, 1.73*D, 1.95*D\n",
    "print ks_2samp(ysha, yshi)\n",
    "D = ((N.sum(ysha) + N.sum(yshi))/(N.sum(ysha)*N.sum(yshi)))**0.5\n",
    "print 'D high', 1.22*D, 1.36*D, 1.48*D, 1.63*D, 1.73*D, 1.95*D\n",
    "print ks_2samp(ydla, ydli)\n",
    "D = ((N.sum(ydla) + N.sum(ydli))/(N.sum(ydla)*N.sum(ydli)))**0.5\n",
    "print 'D low', 1.22*D, 1.36*D, 1.48*D, 1.63*D, 1.73*D, 1.95*D\n",
    "print ks_2samp(ydma, ydmi)\n",
    "D = ((N.sum(ydma) + N.sum(ydmi))/(N.sum(ydma)*N.sum(ydmi)))**0.5\n",
    "print 'D med', 1.22*D, 1.36*D, 1.48*D, 1.63*D, 1.73*D, 1.95*D\n",
    "print ks_2samp(ydha, ydhi)\n",
    "D = ((N.sum(ydha) + N.sum(ydhi))/(N.sum(ydha)*N.sum(ydhi)))**0.5\n",
    "print 'D high', 1.22*D, 1.36*D, 1.48*D, 1.63*D, 1.73*D, 1.95*D\n",
    "\n"
   ]
  },
  {
   "cell_type": "code",
   "execution_count": 15,
   "metadata": {
    "collapsed": false
   },
   "outputs": [
    {
     "name": "stdout",
     "output_type": "stream",
     "text": [
      "0.828383838384\n",
      "1.07404040404\n",
      "6.31919191919\n",
      "2.85387205387\n",
      "0.828383838384\n",
      "1.35686868687\n",
      "7.16767676768\n",
      "3.23097643098\n"
     ]
    }
   ],
   "source": [
    "print 12.99 - X[N.argmax(xdla)]\n",
    "print 12.67 - X[N.argmax(xdma)]\n",
    "print 12.40 - X[N.argmax(xdha)]\n",
    "\n",
    "print N.mean([12.8 - X[N.argmax(xdla)], 12.8 - X[N.argmax(xdma)], 12.8 - X[N.argmax(xdha)]])\n",
    "\n",
    "print 12.99 - X[N.argmax(xsla)]\n",
    "print 12.67 - X[N.argmax(xsma)]\n",
    "print 12.40 - X[N.argmax(xsha)]\n",
    "\n",
    "print N.mean([12.8 - X[N.argmax(xsla)], 12.8 - X[N.argmax(xsma)], 12.8 - X[N.argmax(xsha)]])\n"
   ]
  },
  {
   "cell_type": "code",
   "execution_count": null,
   "metadata": {
    "collapsed": true
   },
   "outputs": [],
   "source": []
  },
  {
   "cell_type": "code",
   "execution_count": null,
   "metadata": {
    "collapsed": true
   },
   "outputs": [],
   "source": []
  }
 ],
 "metadata": {
  "kernelspec": {
   "display_name": "Python 2",
   "language": "python",
   "name": "python2"
  },
  "language_info": {
   "codemirror_mode": {
    "name": "ipython",
    "version": 2
   },
   "file_extension": ".py",
   "mimetype": "text/x-python",
   "name": "python",
   "nbconvert_exporter": "python",
   "pygments_lexer": "ipython2",
   "version": "2.7.8"
  }
 },
 "nbformat": 4,
 "nbformat_minor": 0
}
